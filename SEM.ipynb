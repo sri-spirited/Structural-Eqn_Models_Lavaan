{
 "cells": [
  {
   "cell_type": "markdown",
   "metadata": {},
   "source": [
    "Structural Equation Modelling allows us to explore the relationship between variables and confirm the structure of a developed model.\n",
    "\n",
    "<img src=\"images/1.png\" alt=\"Drawing\"  align='left' style=\"width:400px;\"/>"
   ]
  },
  {
   "cell_type": "markdown",
   "metadata": {},
   "source": [
    "There are 2 types of variables in SEM:\n",
    "\n",
    "\n",
    "<img src=\"images/2.png\" alt=\"Drawing\"  align='left' style=\"width:400px;\"/>"
   ]
  },
  {
   "cell_type": "markdown",
   "metadata": {},
   "source": [
    "In this example, we will use Block Design, Digit Span and Matrix Reason as __Manifest variables__ to indirectly measure the latent variable __Intellegence__.\n",
    "<img src=\"images/3.png\" alt=\"Drawing\" align='left' style=\"width:400px;\"/>"
   ]
  },
  {
   "cell_type": "code",
   "execution_count": 3,
   "metadata": {},
   "outputs": [
    {
     "name": "stderr",
     "output_type": "stream",
     "text": [
      "This is lavaan 0.6-3\n",
      "lavaan is BETA software! Please report any bugs.\n"
     ]
    },
    {
     "data": {
      "text/html": [
       "<table>\n",
       "<thead><tr><th scope=col>x1</th><th scope=col>x2</th><th scope=col>x3</th><th scope=col>x4</th><th scope=col>x5</th><th scope=col>x6</th><th scope=col>x7</th><th scope=col>x8</th><th scope=col>x9</th></tr></thead>\n",
       "<tbody>\n",
       "\t<tr><td>3.333333 </td><td>7.75     </td><td>0.375    </td><td>2.333333 </td><td>5.75     </td><td>1.2857143</td><td>3.391304 </td><td>5.75     </td><td>6.361111 </td></tr>\n",
       "\t<tr><td>5.333333 </td><td>5.25     </td><td>2.125    </td><td>1.666667 </td><td>3.00     </td><td>1.2857143</td><td>3.782609 </td><td>6.25     </td><td>7.916667 </td></tr>\n",
       "\t<tr><td>4.500000 </td><td>5.25     </td><td>1.875    </td><td>1.000000 </td><td>1.75     </td><td>0.4285714</td><td>3.260870 </td><td>3.90     </td><td>4.416667 </td></tr>\n",
       "\t<tr><td>5.333333 </td><td>7.75     </td><td>3.000    </td><td>2.666667 </td><td>4.50     </td><td>2.4285714</td><td>3.000000 </td><td>5.30     </td><td>4.861111 </td></tr>\n",
       "\t<tr><td>4.833333 </td><td>4.75     </td><td>0.875    </td><td>2.666667 </td><td>4.00     </td><td>2.5714286</td><td>3.695652 </td><td>6.30     </td><td>5.916667 </td></tr>\n",
       "\t<tr><td>5.333333 </td><td>5.00     </td><td>2.250    </td><td>1.000000 </td><td>3.00     </td><td>0.8571429</td><td>4.347826 </td><td>6.65     </td><td>7.500000 </td></tr>\n",
       "</tbody>\n",
       "</table>\n"
      ],
      "text/latex": [
       "\\begin{tabular}{r|lllllllll}\n",
       " x1 & x2 & x3 & x4 & x5 & x6 & x7 & x8 & x9\\\\\n",
       "\\hline\n",
       "\t 3.333333  & 7.75      & 0.375     & 2.333333  & 5.75      & 1.2857143 & 3.391304  & 5.75      & 6.361111 \\\\\n",
       "\t 5.333333  & 5.25      & 2.125     & 1.666667  & 3.00      & 1.2857143 & 3.782609  & 6.25      & 7.916667 \\\\\n",
       "\t 4.500000  & 5.25      & 1.875     & 1.000000  & 1.75      & 0.4285714 & 3.260870  & 3.90      & 4.416667 \\\\\n",
       "\t 5.333333  & 7.75      & 3.000     & 2.666667  & 4.50      & 2.4285714 & 3.000000  & 5.30      & 4.861111 \\\\\n",
       "\t 4.833333  & 4.75      & 0.875     & 2.666667  & 4.00      & 2.5714286 & 3.695652  & 6.30      & 5.916667 \\\\\n",
       "\t 5.333333  & 5.00      & 2.250     & 1.000000  & 3.00      & 0.8571429 & 4.347826  & 6.65      & 7.500000 \\\\\n",
       "\\end{tabular}\n"
      ],
      "text/markdown": [
       "\n",
       "| x1 | x2 | x3 | x4 | x5 | x6 | x7 | x8 | x9 |\n",
       "|---|---|---|---|---|---|---|---|---|\n",
       "| 3.333333  | 7.75      | 0.375     | 2.333333  | 5.75      | 1.2857143 | 3.391304  | 5.75      | 6.361111  |\n",
       "| 5.333333  | 5.25      | 2.125     | 1.666667  | 3.00      | 1.2857143 | 3.782609  | 6.25      | 7.916667  |\n",
       "| 4.500000  | 5.25      | 1.875     | 1.000000  | 1.75      | 0.4285714 | 3.260870  | 3.90      | 4.416667  |\n",
       "| 5.333333  | 7.75      | 3.000     | 2.666667  | 4.50      | 2.4285714 | 3.000000  | 5.30      | 4.861111  |\n",
       "| 4.833333  | 4.75      | 0.875     | 2.666667  | 4.00      | 2.5714286 | 3.695652  | 6.30      | 5.916667  |\n",
       "| 5.333333  | 5.00      | 2.250     | 1.000000  | 3.00      | 0.8571429 | 4.347826  | 6.65      | 7.500000  |\n",
       "\n"
      ],
      "text/plain": [
       "  x1       x2   x3    x4       x5   x6        x7       x8   x9      \n",
       "1 3.333333 7.75 0.375 2.333333 5.75 1.2857143 3.391304 5.75 6.361111\n",
       "2 5.333333 5.25 2.125 1.666667 3.00 1.2857143 3.782609 6.25 7.916667\n",
       "3 4.500000 5.25 1.875 1.000000 1.75 0.4285714 3.260870 3.90 4.416667\n",
       "4 5.333333 7.75 3.000 2.666667 4.50 2.4285714 3.000000 5.30 4.861111\n",
       "5 4.833333 4.75 0.875 2.666667 4.00 2.5714286 3.695652 6.30 5.916667\n",
       "6 5.333333 5.00 2.250 1.000000 3.00 0.8571429 4.347826 6.65 7.500000"
      ]
     },
     "metadata": {},
     "output_type": "display_data"
    }
   ],
   "source": [
    "# Load the lavaan library\n",
    "library(lavaan)\n",
    "\n",
    "# # Look at the dataset\n",
    "data(HolzingerSwineford1939)\n",
    "head(HolzingerSwineford1939[ , 7:15])"
   ]
  },
  {
   "cell_type": "markdown",
   "metadata": {},
   "source": [
    "The data consists of 9 tests of mental ability test scores of seventh- and eighth-grade children from two different schools.\n",
    "A Confirmatory Factor Aanalysis model that is often proposed for these 9 variables consists of three latent variables (or factors), each with three indicators:\n",
    "* a visual factor measured by 3 manifest variables: x1, x2 and x3\n",
    "* a textual factor measured by 3 manifest variables: x4, x5 and x6\n",
    "* a speed factor measured by 3 manifest variables: x7, x8 and x9"
   ]
  },
  {
   "cell_type": "markdown",
   "metadata": {},
   "source": [
    "In the R environment, a regression formula has the following form:\n",
    "$$y ~ x1 + x2 + x3 + x4$$\n",
    "\n",
    "In this formula, the tilde ($ \\sim $) is the regression operator. On the left-hand side of the operator, we have the\n",
    "dependent variable (y), and on the right-hand side, we have the independent variables, separated by the $+$ operator. In `lavaan`, a typical model is simply a set (or system) of regression formulas, where some variables (starting with an ‘f’ below) may be latent. For example:\n",
    "\n",
    "$ y \\sim f1 + f2 + x1 + x2$\n",
    "\n",
    "$f1 \\sim f2 + f3$\n",
    "\n",
    "$f2 \\sim f3 + x1 + x2$\n",
    "\n",
    "If we have __latent__ variables in any of the regression formulas, we must ‘define’ them by listing their (__manifest__ or latent) indicators. We do this by using the special operator $=\\sim$, which can be read as is measured by. For example, to define the three latent variabels $f1$, $f2$ and $f3$, we can use something like:\n",
    "\n",
    "$ f1 =\\sim y1 + y2 + y3$\n",
    "\n",
    "$ f2 =\\sim y4 + y5 + y6$\n",
    "\n",
    "$ f3 =\\sim y7 + y8 + y9 + y10$\n",
    "\n",
    "Furthermore, variances and covariances are specified using a ‘double tilde’ operator, for example:\n",
    "\n",
    "$y1 \\sim \\sim y1 $ # variance \n",
    "\n",
    "$y1 \\sim \\sim y2 $ # covariance\n",
    "\n",
    "$f1 \\sim \\sim f2 $ # covariance\n",
    "\n",
    "And finally, intercepts for observed and latent variables are simple regression formulas with only an intercept (explicitly denoted by the number ‘1’) as the only predictor:\n",
    "\n",
    "$ y1 \\sim 1$\n",
    "\n",
    "$ f1 \\sim 1$\n",
    "\n",
    "Using these four formula types, a large variety of latent variable models can be described. This is summarized in the table below.\n",
    "\n",
    "| formula type | operator | mnemonic|\n",
    "|-|-|-|\n",
    "|latent variable definition| =~ | is measured by|\n",
    "|regression | ~| is regressed on|\n",
    "|(residual) (co)variance |~~ | is correlated with|\n",
    "|intercept| ~ 1| intercept|"
   ]
  },
  {
   "cell_type": "markdown",
   "metadata": {},
   "source": [
    "### Model terms\n",
    "#### Degrees of freedom:\n",
    "> Determined by the number of manifest variables and estimated values\n",
    "> df = Possible values - Estimated values\n",
    "> $Possible \\ values = \\frac{Manifest \\ variables * (Manifest \\ variables + 1)}{2}$\n",
    "\n",
    "#### Model identification\n",
    "* Include at three manifest variables\n",
    "* Create models with df>0\n",
    "* Use scaling (of model, not variables. By scalign the variance of manifest variables to 1) and constraints to control df"
   ]
  },
  {
   "cell_type": "markdown",
   "metadata": {},
   "source": [
    "Lets create a new model of textual speed with the variables x4, x5, and x6, which represent reading comprehension and understanding word meaning. x7, x8, and x9 represent speed counting and addition. The model will have one latent variable that predicts scores on these six manifest variables."
   ]
  },
  {
   "cell_type": "code",
   "execution_count": 8,
   "metadata": {},
   "outputs": [
    {
     "data": {
      "text/html": [
       "<table>\n",
       "<thead><tr><th scope=col>id</th><th scope=col>sex</th><th scope=col>ageyr</th><th scope=col>agemo</th><th scope=col>school</th><th scope=col>grade</th><th scope=col>x1</th><th scope=col>x2</th><th scope=col>x3</th><th scope=col>x4</th><th scope=col>x5</th><th scope=col>x6</th><th scope=col>x7</th><th scope=col>x8</th><th scope=col>x9</th></tr></thead>\n",
       "<tbody>\n",
       "\t<tr><td>1        </td><td>1        </td><td>13       </td><td>1        </td><td>Pasteur  </td><td>7        </td><td>3.333333 </td><td>7.75     </td><td>0.375    </td><td>2.333333 </td><td>5.75     </td><td>1.2857143</td><td>3.391304 </td><td>5.75     </td><td>6.361111 </td></tr>\n",
       "\t<tr><td>2        </td><td>2        </td><td>13       </td><td>7        </td><td>Pasteur  </td><td>7        </td><td>5.333333 </td><td>5.25     </td><td>2.125    </td><td>1.666667 </td><td>3.00     </td><td>1.2857143</td><td>3.782609 </td><td>6.25     </td><td>7.916667 </td></tr>\n",
       "\t<tr><td>3        </td><td>2        </td><td>13       </td><td>1        </td><td>Pasteur  </td><td>7        </td><td>4.500000 </td><td>5.25     </td><td>1.875    </td><td>1.000000 </td><td>1.75     </td><td>0.4285714</td><td>3.260870 </td><td>3.90     </td><td>4.416667 </td></tr>\n",
       "\t<tr><td>4        </td><td>1        </td><td>13       </td><td>2        </td><td>Pasteur  </td><td>7        </td><td>5.333333 </td><td>7.75     </td><td>3.000    </td><td>2.666667 </td><td>4.50     </td><td>2.4285714</td><td>3.000000 </td><td>5.30     </td><td>4.861111 </td></tr>\n",
       "\t<tr><td>5        </td><td>2        </td><td>12       </td><td>2        </td><td>Pasteur  </td><td>7        </td><td>4.833333 </td><td>4.75     </td><td>0.875    </td><td>2.666667 </td><td>4.00     </td><td>2.5714286</td><td>3.695652 </td><td>6.30     </td><td>5.916667 </td></tr>\n",
       "\t<tr><td>6        </td><td>2        </td><td>14       </td><td>1        </td><td>Pasteur  </td><td>7        </td><td>5.333333 </td><td>5.00     </td><td>2.250    </td><td>1.000000 </td><td>3.00     </td><td>0.8571429</td><td>4.347826 </td><td>6.65     </td><td>7.500000 </td></tr>\n",
       "</tbody>\n",
       "</table>\n"
      ],
      "text/latex": [
       "\\begin{tabular}{r|lllllllllllllll}\n",
       " id & sex & ageyr & agemo & school & grade & x1 & x2 & x3 & x4 & x5 & x6 & x7 & x8 & x9\\\\\n",
       "\\hline\n",
       "\t 1         & 1         & 13        & 1         & Pasteur   & 7         & 3.333333  & 7.75      & 0.375     & 2.333333  & 5.75      & 1.2857143 & 3.391304  & 5.75      & 6.361111 \\\\\n",
       "\t 2         & 2         & 13        & 7         & Pasteur   & 7         & 5.333333  & 5.25      & 2.125     & 1.666667  & 3.00      & 1.2857143 & 3.782609  & 6.25      & 7.916667 \\\\\n",
       "\t 3         & 2         & 13        & 1         & Pasteur   & 7         & 4.500000  & 5.25      & 1.875     & 1.000000  & 1.75      & 0.4285714 & 3.260870  & 3.90      & 4.416667 \\\\\n",
       "\t 4         & 1         & 13        & 2         & Pasteur   & 7         & 5.333333  & 7.75      & 3.000     & 2.666667  & 4.50      & 2.4285714 & 3.000000  & 5.30      & 4.861111 \\\\\n",
       "\t 5         & 2         & 12        & 2         & Pasteur   & 7         & 4.833333  & 4.75      & 0.875     & 2.666667  & 4.00      & 2.5714286 & 3.695652  & 6.30      & 5.916667 \\\\\n",
       "\t 6         & 2         & 14        & 1         & Pasteur   & 7         & 5.333333  & 5.00      & 2.250     & 1.000000  & 3.00      & 0.8571429 & 4.347826  & 6.65      & 7.500000 \\\\\n",
       "\\end{tabular}\n"
      ],
      "text/markdown": [
       "\n",
       "| id | sex | ageyr | agemo | school | grade | x1 | x2 | x3 | x4 | x5 | x6 | x7 | x8 | x9 |\n",
       "|---|---|---|---|---|---|---|---|---|---|---|---|---|---|---|\n",
       "| 1         | 1         | 13        | 1         | Pasteur   | 7         | 3.333333  | 7.75      | 0.375     | 2.333333  | 5.75      | 1.2857143 | 3.391304  | 5.75      | 6.361111  |\n",
       "| 2         | 2         | 13        | 7         | Pasteur   | 7         | 5.333333  | 5.25      | 2.125     | 1.666667  | 3.00      | 1.2857143 | 3.782609  | 6.25      | 7.916667  |\n",
       "| 3         | 2         | 13        | 1         | Pasteur   | 7         | 4.500000  | 5.25      | 1.875     | 1.000000  | 1.75      | 0.4285714 | 3.260870  | 3.90      | 4.416667  |\n",
       "| 4         | 1         | 13        | 2         | Pasteur   | 7         | 5.333333  | 7.75      | 3.000     | 2.666667  | 4.50      | 2.4285714 | 3.000000  | 5.30      | 4.861111  |\n",
       "| 5         | 2         | 12        | 2         | Pasteur   | 7         | 4.833333  | 4.75      | 0.875     | 2.666667  | 4.00      | 2.5714286 | 3.695652  | 6.30      | 5.916667  |\n",
       "| 6         | 2         | 14        | 1         | Pasteur   | 7         | 5.333333  | 5.00      | 2.250     | 1.000000  | 3.00      | 0.8571429 | 4.347826  | 6.65      | 7.500000  |\n",
       "\n"
      ],
      "text/plain": [
       "  id sex ageyr agemo school  grade x1       x2   x3    x4       x5   x6       \n",
       "1 1  1   13    1     Pasteur 7     3.333333 7.75 0.375 2.333333 5.75 1.2857143\n",
       "2 2  2   13    7     Pasteur 7     5.333333 5.25 2.125 1.666667 3.00 1.2857143\n",
       "3 3  2   13    1     Pasteur 7     4.500000 5.25 1.875 1.000000 1.75 0.4285714\n",
       "4 4  1   13    2     Pasteur 7     5.333333 7.75 3.000 2.666667 4.50 2.4285714\n",
       "5 5  2   12    2     Pasteur 7     4.833333 4.75 0.875 2.666667 4.00 2.5714286\n",
       "6 6  2   14    1     Pasteur 7     5.333333 5.00 2.250 1.000000 3.00 0.8571429\n",
       "  x7       x8   x9      \n",
       "1 3.391304 5.75 6.361111\n",
       "2 3.782609 6.25 7.916667\n",
       "3 3.260870 3.90 4.416667\n",
       "4 3.000000 5.30 4.861111\n",
       "5 3.695652 6.30 5.916667\n",
       "6 4.347826 6.65 7.500000"
      ]
     },
     "metadata": {},
     "output_type": "display_data"
    }
   ],
   "source": [
    "head(HolzingerSwineford1939)"
   ]
  },
  {
   "cell_type": "code",
   "execution_count": 5,
   "metadata": {},
   "outputs": [],
   "source": [
    "# Define your model specification\n",
    "text.model <- 'textspeed =~ x4 + x5 + x6 + x7 + x8 + x9'"
   ]
  },
  {
   "cell_type": "code",
   "execution_count": 7,
   "metadata": {
    "collapsed": true
   },
   "outputs": [
    {
     "name": "stdout",
     "output_type": "stream",
     "text": [
      "lavaan 0.6-3 ended normally after 20 iterations\n",
      "\n",
      "  Optimization method                           NLMINB\n",
      "  Number of free parameters                         12\n",
      "\n",
      "  Number of observations                           301\n",
      "\n",
      "  Estimator                                         ML\n",
      "  Model Fit Test Statistic                     149.786\n",
      "  Degrees of freedom                                 9\n",
      "  P-value (Chi-square)                           0.000\n",
      "\n",
      "Parameter Estimates:\n",
      "\n",
      "  Information                                 Expected\n",
      "  Information saturated (h1) model          Structured\n",
      "  Standard Errors                             Standard\n",
      "\n",
      "Latent Variables:\n",
      "                   Estimate  Std.Err  z-value  P(>|z|)\n",
      "  textspeed =~                                        \n",
      "    x4                1.000                           \n",
      "    x5                1.130    0.067   16.946    0.000\n",
      "    x6                0.925    0.056   16.424    0.000\n",
      "    x7                0.196    0.067    2.918    0.004\n",
      "    x8                0.186    0.062    2.984    0.003\n",
      "    x9                0.279    0.062    4.539    0.000\n",
      "\n",
      "Variances:\n",
      "                   Estimate  Std.Err  z-value  P(>|z|)\n",
      "   .x4                0.383    0.048    7.903    0.000\n",
      "   .x5                0.424    0.059    7.251    0.000\n",
      "   .x6                0.368    0.044    8.419    0.000\n",
      "   .x7                1.146    0.094   12.217    0.000\n",
      "   .x8                0.988    0.081   12.215    0.000\n",
      "   .x9                0.940    0.077   12.142    0.000\n",
      "    textspeed         0.968    0.112    8.647    0.000\n",
      "\n"
     ]
    }
   ],
   "source": [
    "# Analyze the model with cfa()\n",
    "text.fit <- cfa(model = text.model, data = HolzingerSwineford1939)\n",
    "\n",
    "# Summarize the model\n",
    "summary(text.fit)"
   ]
  },
  {
   "cell_type": "code",
   "execution_count": 6,
   "metadata": {},
   "outputs": [
    {
     "data": {
      "text/html": [
       "<table>\n",
       "<thead><tr><th scope=col>y1</th><th scope=col>y2</th><th scope=col>y3</th><th scope=col>y4</th><th scope=col>y5</th><th scope=col>y6</th><th scope=col>y7</th><th scope=col>y8</th><th scope=col>x1</th><th scope=col>x2</th><th scope=col>x3</th></tr></thead>\n",
       "<tbody>\n",
       "\t<tr><td> 2.50   </td><td>0.000000</td><td>3.333333</td><td>0.000000</td><td>1.250000</td><td>0.000000</td><td>3.726360</td><td>3.333333</td><td>4.442651</td><td>3.637586</td><td>2.557615</td></tr>\n",
       "\t<tr><td> 1.25   </td><td>0.000000</td><td>3.333333</td><td>0.000000</td><td>6.250000</td><td>1.100000</td><td>6.666666</td><td>0.736999</td><td>5.384495</td><td>5.062595</td><td>3.568079</td></tr>\n",
       "\t<tr><td> 7.50   </td><td>8.800000</td><td>9.999998</td><td>9.199991</td><td>8.750000</td><td>8.094061</td><td>9.999998</td><td>8.211809</td><td>5.961005</td><td>6.255750</td><td>5.224433</td></tr>\n",
       "\t<tr><td> 8.90   </td><td>8.800000</td><td>9.999998</td><td>9.199991</td><td>8.907948</td><td>8.127979</td><td>9.999998</td><td>4.615086</td><td>6.285998</td><td>7.567863</td><td>6.267495</td></tr>\n",
       "\t<tr><td>10.00   </td><td>3.333333</td><td>9.999998</td><td>6.666666</td><td>7.500000</td><td>3.333333</td><td>9.999998</td><td>6.666666</td><td>5.863631</td><td>6.818924</td><td>4.573679</td></tr>\n",
       "\t<tr><td> 7.50   </td><td>3.333333</td><td>6.666666</td><td>6.666666</td><td>6.250000</td><td>1.100000</td><td>6.666666</td><td>0.368500</td><td>5.533389</td><td>5.135798</td><td>3.892270</td></tr>\n",
       "</tbody>\n",
       "</table>\n"
      ],
      "text/latex": [
       "\\begin{tabular}{r|lllllllllll}\n",
       " y1 & y2 & y3 & y4 & y5 & y6 & y7 & y8 & x1 & x2 & x3\\\\\n",
       "\\hline\n",
       "\t  2.50    & 0.000000 & 3.333333 & 0.000000 & 1.250000 & 0.000000 & 3.726360 & 3.333333 & 4.442651 & 3.637586 & 2.557615\\\\\n",
       "\t  1.25    & 0.000000 & 3.333333 & 0.000000 & 6.250000 & 1.100000 & 6.666666 & 0.736999 & 5.384495 & 5.062595 & 3.568079\\\\\n",
       "\t  7.50    & 8.800000 & 9.999998 & 9.199991 & 8.750000 & 8.094061 & 9.999998 & 8.211809 & 5.961005 & 6.255750 & 5.224433\\\\\n",
       "\t  8.90    & 8.800000 & 9.999998 & 9.199991 & 8.907948 & 8.127979 & 9.999998 & 4.615086 & 6.285998 & 7.567863 & 6.267495\\\\\n",
       "\t 10.00    & 3.333333 & 9.999998 & 6.666666 & 7.500000 & 3.333333 & 9.999998 & 6.666666 & 5.863631 & 6.818924 & 4.573679\\\\\n",
       "\t  7.50    & 3.333333 & 6.666666 & 6.666666 & 6.250000 & 1.100000 & 6.666666 & 0.368500 & 5.533389 & 5.135798 & 3.892270\\\\\n",
       "\\end{tabular}\n"
      ],
      "text/markdown": [
       "\n",
       "| y1 | y2 | y3 | y4 | y5 | y6 | y7 | y8 | x1 | x2 | x3 |\n",
       "|---|---|---|---|---|---|---|---|---|---|---|\n",
       "|  2.50    | 0.000000 | 3.333333 | 0.000000 | 1.250000 | 0.000000 | 3.726360 | 3.333333 | 4.442651 | 3.637586 | 2.557615 |\n",
       "|  1.25    | 0.000000 | 3.333333 | 0.000000 | 6.250000 | 1.100000 | 6.666666 | 0.736999 | 5.384495 | 5.062595 | 3.568079 |\n",
       "|  7.50    | 8.800000 | 9.999998 | 9.199991 | 8.750000 | 8.094061 | 9.999998 | 8.211809 | 5.961005 | 6.255750 | 5.224433 |\n",
       "|  8.90    | 8.800000 | 9.999998 | 9.199991 | 8.907948 | 8.127979 | 9.999998 | 4.615086 | 6.285998 | 7.567863 | 6.267495 |\n",
       "| 10.00    | 3.333333 | 9.999998 | 6.666666 | 7.500000 | 3.333333 | 9.999998 | 6.666666 | 5.863631 | 6.818924 | 4.573679 |\n",
       "|  7.50    | 3.333333 | 6.666666 | 6.666666 | 6.250000 | 1.100000 | 6.666666 | 0.368500 | 5.533389 | 5.135798 | 3.892270 |\n",
       "\n"
      ],
      "text/plain": [
       "  y1    y2       y3       y4       y5       y6       y7       y8       x1      \n",
       "1  2.50 0.000000 3.333333 0.000000 1.250000 0.000000 3.726360 3.333333 4.442651\n",
       "2  1.25 0.000000 3.333333 0.000000 6.250000 1.100000 6.666666 0.736999 5.384495\n",
       "3  7.50 8.800000 9.999998 9.199991 8.750000 8.094061 9.999998 8.211809 5.961005\n",
       "4  8.90 8.800000 9.999998 9.199991 8.907948 8.127979 9.999998 4.615086 6.285998\n",
       "5 10.00 3.333333 9.999998 6.666666 7.500000 3.333333 9.999998 6.666666 5.863631\n",
       "6  7.50 3.333333 6.666666 6.666666 6.250000 1.100000 6.666666 0.368500 5.533389\n",
       "  x2       x3      \n",
       "1 3.637586 2.557615\n",
       "2 5.062595 3.568079\n",
       "3 6.255750 5.224433\n",
       "4 7.567863 6.267495\n",
       "5 6.818924 4.573679\n",
       "6 5.135798 3.892270"
      ]
     },
     "metadata": {},
     "output_type": "display_data"
    }
   ],
   "source": [
    "# Look at the dataset\n",
    "data(PoliticalDemocracy)\n",
    "head(PoliticalDemocracy)\n",
    "\n",
    "# Define your model specification\n",
    "politics.model <- 'poldemo60 =~ y1 + y2 +y3 +y4'"
   ]
  },
  {
   "cell_type": "code",
   "execution_count": 9,
   "metadata": {},
   "outputs": [
    {
     "name": "stdout",
     "output_type": "stream",
     "text": [
      "lavaan 0.6-3 ended normally after 26 iterations\n",
      "\n",
      "  Optimization method                           NLMINB\n",
      "  Number of free parameters                          8\n",
      "\n",
      "  Number of observations                            75\n",
      "\n",
      "  Estimator                                         ML\n",
      "  Model Fit Test Statistic                      10.006\n",
      "  Degrees of freedom                                 2\n",
      "  P-value (Chi-square)                           0.007\n",
      "\n",
      "Parameter Estimates:\n",
      "\n",
      "  Information                                 Expected\n",
      "  Information saturated (h1) model          Structured\n",
      "  Standard Errors                             Standard\n",
      "\n",
      "Latent Variables:\n",
      "                   Estimate  Std.Err  z-value  P(>|z|)\n",
      "  poldemo60 =~                                        \n",
      "    y1                1.000                           \n",
      "    y2                1.404    0.197    7.119    0.000\n",
      "    y3                1.089    0.167    6.529    0.000\n",
      "    y4                1.370    0.167    8.228    0.000\n",
      "\n",
      "Variances:\n",
      "                   Estimate  Std.Err  z-value  P(>|z|)\n",
      "   .y1                2.239    0.512    4.371    0.000\n",
      "   .y2                6.412    1.293    4.960    0.000\n",
      "   .y3                5.229    0.990    5.281    0.000\n",
      "   .y4                2.530    0.765    3.306    0.001\n",
      "    poldemo60         4.548    1.106    4.112    0.000\n",
      "\n"
     ]
    }
   ],
   "source": [
    "politics.fit <- cfa(model = politics.model, data = PoliticalDemocracy)\n",
    "summary(politics.fit)"
   ]
  },
  {
   "cell_type": "markdown",
   "metadata": {},
   "source": [
    "### Model assessment"
   ]
  },
  {
   "cell_type": "markdown",
   "metadata": {},
   "source": [
    "<img src=\"images/4.png\" alt=\"Drawing\" align='left' style=\"width:600px;\"/>\n",
    "\n",
    "<img src=\"images/5.png\" alt=\"Drawing\" align='left' style=\"width:500px;\"/>\n",
    "\n"
   ]
  },
  {
   "cell_type": "markdown",
   "metadata": {},
   "source": [
    "[http://davidakenny.net/cm/fit.htm]"
   ]
  },
  {
   "cell_type": "code",
   "execution_count": 10,
   "metadata": {},
   "outputs": [
    {
     "name": "stdout",
     "output_type": "stream",
     "text": [
      "lavaan 0.6-3 ended normally after 20 iterations\n",
      "\n",
      "  Optimization method                           NLMINB\n",
      "  Number of free parameters                         12\n",
      "\n",
      "  Number of observations                           301\n",
      "\n",
      "  Estimator                                         ML\n",
      "  Model Fit Test Statistic                     149.786\n",
      "  Degrees of freedom                                 9\n",
      "  P-value (Chi-square)                           0.000\n",
      "\n",
      "Model test baseline model:\n",
      "\n",
      "  Minimum Function Test Statistic              681.336\n",
      "  Degrees of freedom                                15\n",
      "  P-value                                        0.000\n",
      "\n",
      "User model versus baseline model:\n",
      "\n",
      "  Comparative Fit Index (CFI)                    0.789\n",
      "  Tucker-Lewis Index (TLI)                       0.648\n",
      "\n",
      "Loglikelihood and Information Criteria:\n",
      "\n",
      "  Loglikelihood user model (H0)              -2476.130\n",
      "  Loglikelihood unrestricted model (H1)      -2401.237\n",
      "\n",
      "  Number of free parameters                         12\n",
      "  Akaike (AIC)                                4976.261\n",
      "  Bayesian (BIC)                              5020.746\n",
      "  Sample-size adjusted Bayesian (BIC)         4982.689\n",
      "\n",
      "Root Mean Square Error of Approximation:\n",
      "\n",
      "  RMSEA                                          0.228\n",
      "  90 Percent Confidence Interval          0.197  0.261\n",
      "  P-value RMSEA <= 0.05                          0.000\n",
      "\n",
      "Standardized Root Mean Square Residual:\n",
      "\n",
      "  SRMR                                           0.148\n",
      "\n",
      "Parameter Estimates:\n",
      "\n",
      "  Information                                 Expected\n",
      "  Information saturated (h1) model          Structured\n",
      "  Standard Errors                             Standard\n",
      "\n",
      "Latent Variables:\n",
      "                   Estimate  Std.Err  z-value  P(>|z|)   Std.lv  Std.all\n",
      "  textspeed =~                                                          \n",
      "    x4                1.000                               0.984    0.846\n",
      "    x5                1.130    0.067   16.946    0.000    1.112    0.863\n",
      "    x6                0.925    0.056   16.424    0.000    0.910    0.832\n",
      "    x7                0.196    0.067    2.918    0.004    0.193    0.177\n",
      "    x8                0.186    0.062    2.984    0.003    0.183    0.181\n",
      "    x9                0.279    0.062    4.539    0.000    0.275    0.273\n",
      "\n",
      "Variances:\n",
      "                   Estimate  Std.Err  z-value  P(>|z|)   Std.lv  Std.all\n",
      "   .x4                0.383    0.048    7.903    0.000    0.383    0.284\n",
      "   .x5                0.424    0.059    7.251    0.000    0.424    0.256\n",
      "   .x6                0.368    0.044    8.419    0.000    0.368    0.308\n",
      "   .x7                1.146    0.094   12.217    0.000    1.146    0.969\n",
      "   .x8                0.988    0.081   12.215    0.000    0.988    0.967\n",
      "   .x9                0.940    0.077   12.142    0.000    0.940    0.926\n",
      "    textspeed         0.968    0.112    8.647    0.000    1.000    1.000\n",
      "\n"
     ]
    }
   ],
   "source": [
    "summary(text.fit, fit.measures=TRUE, standardized=TRUE)"
   ]
  },
  {
   "cell_type": "code",
   "execution_count": null,
   "metadata": {},
   "outputs": [],
   "source": []
  }
 ],
 "metadata": {
  "kernelspec": {
   "display_name": "R",
   "language": "R",
   "name": "ir"
  },
  "language_info": {
   "codemirror_mode": "r",
   "file_extension": ".r",
   "mimetype": "text/x-r-source",
   "name": "R",
   "pygments_lexer": "r",
   "version": "3.6.0"
  }
 },
 "nbformat": 4,
 "nbformat_minor": 2
}
